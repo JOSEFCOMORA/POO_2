{
 "cells": [
  {
   "cell_type": "code",
   "execution_count": 6,
   "metadata": {},
   "outputs": [
    {
     "data": {
      "text/plain": [
       "7"
      ]
     },
     "execution_count": 6,
     "metadata": {},
     "output_type": "execute_result"
    }
   ],
   "source": [
    "5+2"
   ]
  },
  {
   "cell_type": "code",
   "execution_count": 7,
   "metadata": {},
   "outputs": [],
   "source": [
    "from tkinter import * #Importa las clases \n",
    "from tkinter import ttk\n",
    "window = Tk()\n",
    "window.title(\"Registro de clientes\") #Titulo \n",
    "window.geometry('300x300') #Tamaño del formato \n",
    "window.configure(background = \"grey\"); #Color \n",
    "\n",
    "# Crea etiquetas.  \n",
    "a = Label(window ,text = \"Nombre\").grid(row = 0,column = 0)\n",
    "b = Label(window ,text = \"Apellido\").grid(row = 1,column = 0)\n",
    "c = Label(window ,text = \"numero de cliente\").grid(row = 2,column = 0)\n",
    "d = Label(window ,text = \"email\").grid(row = 3,column = 0)\n",
    "# Crea espacios para que el usuario ingrese datos. \n",
    "a1 = Entry(window).grid(row = 0,column = 1)\n",
    "b1 = Entry(window).grid(row = 1,column = 1)\n",
    "c1 = Entry(window).grid(row = 2,column = 1)\n",
    "d1 = Entry(window).grid(row = 3,column = 1)\n",
    "def clicked():\n",
    "   res = \"Bienvenid@ \" + txt.get()\n",
    "   lbl.configure(text= res)\n",
    "# Crea un botón con el texto enviar\n",
    "btn = ttk.Button(window ,text=\"enviar\").grid(row=4,column=0)\n",
    "window.mainloop() # Hace que se mantenga la ventana abierta  \n",
    "\n"
   ]
  },
  {
   "cell_type": "code",
   "execution_count": null,
   "metadata": {},
   "outputs": [],
   "source": []
  }
 ],
 "metadata": {
  "kernelspec": {
   "display_name": "Python 3",
   "language": "python",
   "name": "python3"
  },
  "language_info": {
   "codemirror_mode": {
    "name": "ipython",
    "version": 3
   },
   "file_extension": ".py",
   "mimetype": "text/x-python",
   "name": "python",
   "nbconvert_exporter": "python",
   "pygments_lexer": "ipython3",
   "version": "3.11.9"
  }
 },
 "nbformat": 4,
 "nbformat_minor": 2
}
